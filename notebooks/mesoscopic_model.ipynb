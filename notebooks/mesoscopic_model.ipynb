{
 "cells": [
  {
   "cell_type": "markdown",
   "metadata": {},
   "source": [
    "# Mesoscopic Model\n",
    "## Getting Started\n",
    "\n",
    "* The mesoscopic model implementation is in `src/mesoscopic_model.py`\n",
    "* Analysis are in `ana/meso_helper.py`\n",
    "* and some higher-level wrappers to create the figures from the paper are in `ana/paper_plots.py`\n",
    "* We have a script that wraps the model to generate the needed data, in `run/meso_launcher.py`\n",
    "\n",
    "But first, lets explore the model a bit:"
   ]
  },
  {
   "cell_type": "code",
   "execution_count": null,
   "metadata": {},
   "outputs": [],
   "source": [
    "# The autoreload extension allows you to tweak the code in the imported modules\n",
    "# and rerun cells to reflect the changes.\n",
    "%load_ext autoreload\n",
    "%autoreload 2\n",
    "# this allows us to output the dictionary structure\n",
    "%load_ext ipy_dict_hierarchy\n",
    "\n",
    "# the model and helpers are in `src` and `ana` folders\n",
    "import sys\n",
    "sys.path.append(\"./../\")\n",
    "from ana import plot_helper as ph\n",
    "from ana import paper_plots as pp\n",
    "from ana import meso_helper as mh\n",
    "from src import mesoscopic_model as mm\n",
    "\n",
    "# To explore the parameters of the mesoscopic model, try the following:\n",
    "# list the parameter description\n",
    "# print(mm.simulate_model.__doc__)\n",
    " # and default values\n",
    "mm.default_pars "
   ]
  },
  {
   "cell_type": "code",
   "execution_count": null,
   "metadata": {},
   "outputs": [],
   "source": [
    "pp.log.setLevel(\"INFO\")\n",
    "pp.show_title = False\n",
    "pp.show_ylabel = True\n",
    "pp.show_xlabel = True\n",
    "# tweak some of the parameters and get a quick-and-dirty representation of the run\n",
    "figs = pp.meso_explore(\n",
    "    # kwargs are passed through to the `mm.simulate_model`\n",
    "    simulation_time=10000,\n",
    "    ext_str=[0.0, 0.0, 0.0, 0.0],\n",
    "    # ext_str=[0.125, 0.0, 0.125, 0.0],\n",
    "    w0=0.1,\n",
    "    gating_mechanism=True,\n",
    "    range_to_show=[50, 650],\n",
    "    zoom_start=470,\n",
    "    rseed=42,\n",
    ");\n",
    "figs[0].savefig(f\"{pp.p_fo}/meso_explore.pdf\", dpi=900)\n",
    "figs[1].savefig(f\"{pp.p_fo}/meso_explore_cycle.pdf\", dpi=300)"
   ]
  },
  {
   "cell_type": "markdown",
   "metadata": {},
   "source": [
    "## Generating Data\n",
    "\n",
    "Simulations of the mesoscopic model are pretty fast, and can be run in a few minutes on a laptop.\n",
    "\n",
    "We have the `run/meso_launcher.py` script that uses the model from above, and creates output files in `dat/simulations/meso/raw` or `raw_long_ts` (see the script file for details).\n",
    "\n",
    "To analyse:"
   ]
  },
  {
   "cell_type": "code",
   "execution_count": null,
   "metadata": {},
   "outputs": [],
   "source": [
    "# for the phase plots, the short time series are sufficient.\n",
    "# the long ones are mainly for plotting resource cycles.\n",
    "dset = mh.process_data_from_folder(f\"{pp.p_sim}/meso/raw_partial_gates_on\")\n",
    "mh.write_xr_dset_to_hdf5(dset, output_path=f\"{pp.p_sim}/meso/processed/analysed_gates_on.hdf5\")\n",
    "dset = mh.process_data_from_folder(f\"{pp.p_sim}/meso/raw_partial_gates_off\")\n",
    "mh.write_xr_dset_to_hdf5(dset, output_path=f\"{pp.p_sim}/meso/processed/analysed_gates_off.hdf5\")"
   ]
  },
  {
   "cell_type": "markdown",
   "metadata": {},
   "source": [
    "## Plots from the paper"
   ]
  },
  {
   "cell_type": "code",
   "execution_count": null,
   "metadata": {},
   "outputs": [],
   "source": [
    "# fig 4 module contribution\n",
    "\n",
    "pp.show_xlabel=True\n",
    "pp.show_ylabel=True\n",
    "\n",
    "case = \"_gates_on\"\n",
    "# case = \"_gates_off\"\n",
    "\n",
    "ax = pp.sim_modules_participating_in_bursts(\n",
    "    f\"{pp.p_sim}/meso/processed/analysed{case}.hdf5\",\n",
    "    simulation_coordinates=dict(coupling=0.1),\n",
    "    xlim_for_fill=[0, 0.2],\n",
    "    xlim_for_points=[0, 0.176],\n",
    "    dim1=\"noise\",\n",
    "    drop_zero_len=False,\n",
    ")\n",
    "ax.set_xlabel(\"External input\" if pp.show_xlabel else \"\")\n",
    "ax.set_ylabel(\"Fraction of events\\nspanning\" if pp.show_ylabel else \"\")\n",
    "\n",
    "ax.xaxis.set_major_locator(pp.matplotlib.ticker.MultipleLocator(0.1))\n",
    "ax.xaxis.set_minor_locator(pp.matplotlib.ticker.MultipleLocator(0.025))\n",
    "\n",
    "ax.set_xlim(0, 0.175)\n",
    "\n",
    "pp.sns.despine(ax=ax, offset=2.5)\n",
    "pp.cc.set_size(ax, w=1.8, h=1.0, l=0.8, b=0.5, r=0.2, t=0.2)\n",
    "\n",
    "ax.get_figure().savefig(f\"{pp.p_fo}/meso_partial{case}_modules_participating_in_bursts.pdf\", dpi=300)"
   ]
  },
  {
   "cell_type": "code",
   "execution_count": null,
   "metadata": {},
   "outputs": [],
   "source": [
    "case = \"_gates_on\"\n",
    "# case = \"_gates_off\"\n",
    "\n",
    "pp.log.setLevel(\"INFO\")\n",
    "pp.show_xlabel = True\n",
    "pp.show_ylabel = True\n",
    "pp.show_title = False\n",
    "pp.show_legend = False\n",
    "\n",
    "\n",
    "dset = pp.nh.load_ndim_h5f(f\"{pp.p_sim}/meso/processed/analysed{case}.hdf5\")\n",
    "dset = dset.where(dset[\"noise\"] < 0.2)\n",
    "cc = pp.cc\n",
    "\n",
    "ax = None\n",
    "for kdx, c in enumerate([0.0, 0.03, 0.05, 0.1, 0.15]):\n",
    "    coords = dict()\n",
    "    coords[\"coupling\"] = c\n",
    "    ax = pp.sim_plot_obs_from_ndim(\n",
    "        dset = dset,\n",
    "        coords = coords,\n",
    "        observable = \"median_correlation_coefficient_within_stim\",\n",
    "        x_dim = \"noise\",\n",
    "        ax = ax,\n",
    "        errortype=\"sem\",\n",
    "        estimator=\"mean\",\n",
    "        color= cc.alpha_to_solid_on_bg(pp.colors[\"stim\"], cc.fade(kdx, 5, invert=True)),\n",
    "        clip_on=False,\n",
    "    )\n",
    "\n",
    "ax.set_xlim(0, 0.175)\n",
    "ax.set_ylim(0, 1)\n",
    "ax.xaxis.set_major_locator(pp.matplotlib.ticker.MultipleLocator(0.1))\n",
    "ax.xaxis.set_minor_locator(pp.matplotlib.ticker.MultipleLocator(0.025))\n",
    "ax.yaxis.set_major_locator(pp.matplotlib.ticker.MultipleLocator(0.5))\n",
    "ax.yaxis.set_minor_locator(pp.matplotlib.ticker.MultipleLocator(0.1))\n",
    "\n",
    "ax.set_xlabel(\"External input\" if pp.show_xlabel else \"\")\n",
    "ax.set_ylabel(\"Module\\ncorrelation\" if pp.show_ylabel else \"\")\n",
    "\n",
    "pp.sns.despine(ax=ax, offset=2.5)\n",
    "pp.cc.set_size(ax, w=1.8, h=1.0, l=0.8, b=0.5, r=0.2, t=0.2)\n",
    "ax.get_figure().savefig(f\"{pp.p_fo}/f4_meso_correlation_vs_rate.pdf\", dpi=300)\n",
    "\n"
   ]
  },
  {
   "cell_type": "markdown",
   "metadata": {},
   "source": [
    "## Interplay of noise and external input for individual modules"
   ]
  },
  {
   "cell_type": "code",
   "execution_count": null,
   "metadata": {},
   "outputs": [],
   "source": [
    "# unaltered in Rev 1, single-module dynamics\n",
    "\n",
    "print(pp.fig_sm_meso_noise_and_input_flowfields.__doc__)\n",
    "pp.fig_sm_meso_noise_and_input_flowfields()"
   ]
  },
  {
   "cell_type": "code",
   "execution_count": null,
   "metadata": {},
   "outputs": [],
   "source": [
    "# Observables as a function of either coupling or noise,\n",
    "# not used in the manuscript.\n",
    "\n",
    "# Note: to get the version with gates disabled, manually provide the right\n",
    "# file paths / loaded dset\n",
    "# print(pp.fig_5.__doc__)\n",
    "pp.log.setLevel(\"INFO\")\n",
    "pp.show_legend = False\n",
    "pp.show_title = True\n",
    "case = \"_gates_on\"\n",
    "# case = \"_gates_off\"\n",
    "ax = pp.fig_5_r1(\n",
    "    dset=f\"{pp.p_sim}/meso/processed/analysed{case}.hdf5\",\n",
    "    out_path=f\"{pp.p_fo}/meso_partial{case}\",\n",
    ")\n",
    "\n",
    "# ax.set_xscale(\"log\")\n",
    "# ax.set_xlim(1e-2, 1)"
   ]
  }
 ],
 "metadata": {
  "kernelspec": {
   "display_name": "Python 3.9.13 ('base')",
   "language": "python",
   "name": "python3"
  },
  "language_info": {
   "codemirror_mode": {
    "name": "ipython",
    "version": 3
   },
   "file_extension": ".py",
   "mimetype": "text/x-python",
   "name": "python",
   "nbconvert_exporter": "python",
   "pygments_lexer": "ipython3",
   "version": "3.9.13"
  },
  "vscode": {
   "interpreter": {
    "hash": "965c20fcf1f3c4c2d622bc2f64d0068a6184ac03d438688c29b2bf2de8d7c0a0"
   }
  }
 },
 "nbformat": 4,
 "nbformat_minor": 2
}
